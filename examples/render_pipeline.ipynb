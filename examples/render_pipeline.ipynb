{
 "cells": [
  {
   "cell_type": "code",
   "execution_count": null,
   "id": "734b5603",
   "metadata": {
    "scrolled": true
   },
   "outputs": [],
   "source": [
    "import pycinema\n",
    "\n",
    "resolution = (512,256)\n",
    "phi_samples = (0,360,60)\n",
    "theta_samples = 20\n",
    "time_samples = 0.1\n",
    "\n",
    "plane_images = pycinema.DemoScene()\n",
    "plane_images.inputs.objects.set((1,0,0),False) # Plane Only\n",
    "plane_images.inputs.resolution.set(resolution,False)\n",
    "plane_images.inputs.phi_samples.set(phi_samples,False)\n",
    "plane_images.inputs.theta_samples.set(theta_samples,False)\n",
    "plane_images.inputs.time_samples.set(time_samples,False)\n",
    "plane_images.update()\n",
    "\n",
    "sphere_images = pycinema.DemoScene()\n",
    "sphere_images.inputs.objects.set((0,1,1),False) # Big and Small Sphere\n",
    "sphere_images.inputs.resolution.set(resolution,False)\n",
    "sphere_images.inputs.phi_samples.set(phi_samples,False)\n",
    "sphere_images.inputs.theta_samples.set(theta_samples,False)\n",
    "sphere_images.inputs.time_samples.set(time_samples,False)\n",
    "sphere_images.update()\n",
    "\n",
    "spheres_colored_by_y = pycinema.ColorMapping()\n",
    "spheres_colored_by_y.inputs.channel.set( \"y\", False )\n",
    "spheres_colored_by_y.inputs.map.set( \"plasma\", False )\n",
    "spheres_colored_by_y.inputs.range.set( (0,2), False )\n",
    "spheres_colored_by_y.inputs.images.set( sphere_images.outputs.images )\n",
    "\n",
    "depth_compositing = pycinema.DepthCompositing()\n",
    "depth_compositing.inputs.images_a.set(plane_images.outputs.images, False )\n",
    "depth_compositing.inputs.images_b.set(spheres_colored_by_y.outputs.images, False )\n",
    "depth_compositing.update()\n",
    "\n",
    "ssao = pycinema.ShaderSSAO()\n",
    "ssao.inputs.radius.set( 0.1, False )\n",
    "ssao.inputs.samples.set( 256, False )\n",
    "ssao.inputs.diff.set( 0.5, False )\n",
    "ssao.inputs.images.set( depth_compositing.outputs.images )\n",
    "\n",
    "image_canny = pycinema.ImageCanny()\n",
    "image_canny.inputs.thresholds.set( [50,60], False )\n",
    "image_canny.inputs.images.set( depth_compositing.outputs.images )\n",
    "\n",
    "color_source = pycinema.ColorSource()\n",
    "color_source.inputs.rgba.set((200,0,0,255))\n",
    "\n",
    "mask_compositing = pycinema.MaskCompositing()\n",
    "mask_compositing.inputs.opacity.set(1.0)\n",
    "mask_compositing.inputs.images_a.set(ssao.outputs.images, False )\n",
    "mask_compositing.inputs.images_b.set(color_source.outputs.rgba, False )\n",
    "mask_compositing.inputs.masks.set(image_canny.outputs.images, False )\n",
    "mask_compositing.inputs.mask_channel.set('canny')\n",
    "\n",
    "annotation = pycinema.Annotation()\n",
    "annotation.inputs.color.set( (200,200,200), False )\n",
    "annotation.inputs.size.set( 14, False )\n",
    "annotation.inputs.xy.set( (10,10), False )\n",
    "annotation.inputs.spacing.set( 10, False )\n",
    "annotation.inputs.images.set( mask_compositing.outputs.images )\n",
    "\n",
    "image_viewer = pycinema.ImageViewer()\n",
    "image_viewer.inputs.images.set( annotation.outputs.images )"
   ]
  }
 ],
 "metadata": {
  "kernelspec": {
   "display_name": "Python 3 (ipykernel)",
   "language": "python",
   "name": "python3"
  },
  "language_info": {
   "codemirror_mode": {
    "name": "ipython",
    "version": 3
   },
   "file_extension": ".py",
   "mimetype": "text/x-python",
   "name": "python",
   "nbconvert_exporter": "python",
   "pygments_lexer": "ipython3",
   "version": "3.10.8"
  }
 },
 "nbformat": 4,
 "nbformat_minor": 5
}
